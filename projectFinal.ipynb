{
 "cells": [
  {
   "cell_type": "code",
   "execution_count": 1,
   "metadata": {},
   "outputs": [],
   "source": [
    "import pandas as pd\n",
    "import re\n",
    "import numpy as np"
   ]
  },
  {
   "cell_type": "markdown",
   "metadata": {},
   "source": [
    "### Load Datasets"
   ]
  },
  {
   "cell_type": "code",
   "execution_count": null,
   "metadata": {},
   "outputs": [],
   "source": [
    "dogs = pd.read_csv(\"dogs.csv\")\n",
    "#dogs.head()"
   ]
  },
  {
   "cell_type": "code",
   "execution_count": 3,
   "metadata": {},
   "outputs": [],
   "source": [
    "travels = pd.read_csv(\"dogTravel.csv\")\n",
    "#travels.head()"
   ]
  },
  {
   "cell_type": "code",
   "execution_count": 4,
   "metadata": {},
   "outputs": [],
   "source": [
    "population = pd.read_csv(\"NST-EST2021-POP.csv\", names=['State', 'Pop'])\n",
    "#population.head()"
   ]
  },
  {
   "cell_type": "markdown",
   "metadata": {},
   "source": [
    "### Preprocessing"
   ]
  },
  {
   "cell_type": "code",
   "execution_count": 5,
   "metadata": {},
   "outputs": [],
   "source": [
    "for index in dogs[(dogs['contact_country']!='US') & (dogs['contact_country']!='CA')].index:    #indici delle righe da traslare\n",
    "    for i in range(1,8):                                                             #1-8 perchè sono 7 le colonne da traslare\n",
    "        dogs.loc[index, dogs.keys()[33-i]]=dogs.loc[index, dogs.keys()[32-i]]   #prende il valore della colonna adiacente\n",
    "    dogs.loc[index, 'status']=''                                               #non si può dire niente di status\n",
    "    \n",
    "#dogs.to_csv('dogs2.csv')"
   ]
  },
  {
   "cell_type": "code",
   "execution_count": 6,
   "metadata": {},
   "outputs": [],
   "source": [
    "population['Pop']=population['Pop'].apply(lambda x: int(x.replace('.', '')))  \n",
    "#trasformazione variabile Pop da str in int; è stato necessario rimuovere i punti di separazione"
   ]
  },
  {
   "cell_type": "markdown",
   "metadata": {},
   "source": [
    "## 1. Extract all dogs with status that is not adoptable"
   ]
  },
  {
   "cell_type": "code",
   "execution_count": null,
   "metadata": {},
   "outputs": [],
   "source": [
    "dogs[dogs['status']!='adoptable']"
   ]
  },
  {
   "cell_type": "code",
   "execution_count": 14,
   "metadata": {},
   "outputs": [],
   "source": [
    "dogsna = dogs[dogs['status']!='adoptable']"
   ]
  },
  {
   "cell_type": "markdown",
   "metadata": {},
   "source": [
    "## 2. For each (primary) breed, determine the number of dogs"
   ]
  },
  {
   "cell_type": "code",
   "execution_count": null,
   "metadata": {},
   "outputs": [],
   "source": [
    "dogspb = dogs.groupby('breed_primary')['id'].count()\n",
    "dogspb"
   ]
  },
  {
   "cell_type": "markdown",
   "metadata": {},
   "source": [
    "## 3. For each (primary) breed, determine the ratio between the number of dogs of Mixed Breed and those not of Mixed Breed. Hint: look at the secondary_breed."
   ]
  },
  {
   "cell_type": "code",
   "execution_count": 20,
   "metadata": {},
   "outputs": [],
   "source": [
    "dogssb = dogs[dogs['breed_secondary']=='Mixed Breed'].groupby('breed_primary')['id'].count()\n",
    "#per ogni primary breed, calcolo di quanti cani hanno come valore 'Mixed Breed' per secondary breed"
   ]
  },
  {
   "cell_type": "code",
   "execution_count": 26,
   "metadata": {},
   "outputs": [],
   "source": [
    "ratio = round(dogssb/dogspb*100, 3)\n",
    "#ratio"
   ]
  },
  {
   "cell_type": "code",
   "execution_count": 28,
   "metadata": {},
   "outputs": [],
   "source": [
    "for i in ratio.keys():         #per sostituire i NaN in 0\n",
    "    if  not ratio[i] >=0:\n",
    "        ratio[i]=0\n",
    "#ratio"
   ]
  },
  {
   "cell_type": "markdown",
   "metadata": {},
   "source": [
    "## 4. For each (primary) breed, determine the earliest and the latest posted timestamp."
   ]
  },
  {
   "cell_type": "code",
   "execution_count": 29,
   "metadata": {},
   "outputs": [],
   "source": [
    "l=[]   # eliminare dai valori in posted i caratteri 'T' e '+0000$' per facilitare la formattazione\n",
    "\n",
    "for obj in dogs['posted']:\n",
    "    obj=(re.sub('\\+0000$', '', obj))\n",
    "    res=(re.sub('T', ' ', obj))\n",
    "    l.append(res)\n",
    "    \n",
    "dogs['posted_new']=l "
   ]
  },
  {
   "cell_type": "code",
   "execution_count": 30,
   "metadata": {},
   "outputs": [],
   "source": [
    "dogs['parsed posted'] = pd.to_datetime(dogs['posted'], format='%Y-%m-%d %H:%M:%S')"
   ]
  },
  {
   "cell_type": "code",
   "execution_count": null,
   "metadata": {},
   "outputs": [],
   "source": [
    "dogs.groupby('breed_primary')['parsed posted'].max() #the latest posted timestamp"
   ]
  },
  {
   "cell_type": "code",
   "execution_count": null,
   "metadata": {},
   "outputs": [],
   "source": [
    "dogs.groupby('breed_primary')['parsed posted'].min() #the earliest posted timestamp"
   ]
  },
  {
   "cell_type": "markdown",
   "metadata": {},
   "source": [
    "# # 5. For each state, compute the sex imbalance, that is the difference between male and female dogs. In which state this imbalance is largest?"
   ]
  },
  {
   "cell_type": "code",
   "execution_count": 34,
   "metadata": {},
   "outputs": [],
   "source": [
    "dogsMale = dogs[dogs['sex']=='Male'].groupby('contact_state')['id'].count()"
   ]
  },
  {
   "cell_type": "code",
   "execution_count": 36,
   "metadata": {},
   "outputs": [],
   "source": [
    "dogsFemale = dogs[dogs['sex']=='Female'].groupby('contact_state')['id'].count()"
   ]
  },
  {
   "cell_type": "code",
   "execution_count": 37,
   "metadata": {},
   "outputs": [],
   "source": [
    "sexImbalance = dogsMale-dogsFemale"
   ]
  },
  {
   "cell_type": "code",
   "execution_count": 38,
   "metadata": {},
   "outputs": [
    {
     "name": "stdout",
     "output_type": "stream",
     "text": [
      "The sex imbalance is largest in OH with a value of: 205\n"
     ]
    }
   ],
   "source": [
    "print(\"The sex imbalance is largest in \" + str(sexImbalance.idxmax()) + ' with a value of: ' +str(sexImbalance.max()))"
   ]
  },
  {
   "cell_type": "markdown",
   "metadata": {},
   "source": [
    "## 6. For each pair (age, size), determine the average duration of the stay and the average cost of stay."
   ]
  },
  {
   "cell_type": "code",
   "execution_count": null,
   "metadata": {},
   "outputs": [],
   "source": [
    "round(dogs.groupby(['age', 'size'])['stay_duration'].mean(),3)"
   ]
  },
  {
   "cell_type": "code",
   "execution_count": null,
   "metadata": {},
   "outputs": [],
   "source": [
    "round(dogs.groupby(['age', 'size'])['stay_cost'].mean(),3)"
   ]
  },
  {
   "cell_type": "markdown",
   "metadata": {},
   "source": [
    "## 7. Find the dogs involved in at least 3 travels. Also list the breed of those dogs."
   ]
  },
  {
   "cell_type": "code",
   "execution_count": 43,
   "metadata": {},
   "outputs": [],
   "source": [
    "df=travels.groupby('id').size().reset_index(name='number of travels') \n",
    "#nuovo dataframe, per ogni Id (per ogni cane) calcola il numero di viaggi effettuato"
   ]
  },
  {
   "cell_type": "code",
   "execution_count": null,
   "metadata": {},
   "outputs": [],
   "source": [
    "df[df['number of travels']>=3].merge(dogs[['id', 'breed_primary']], on = 'id', how='left')"
   ]
  },
  {
   "cell_type": "markdown",
   "metadata": {},
   "source": [
    "## 8. Fix the travels table so that the correct state is computed from the manual and the found fields. If manual is not missing, then it overrides what is stored in found."
   ]
  },
  {
   "cell_type": "code",
   "execution_count": 49,
   "metadata": {},
   "outputs": [],
   "source": [
    "manualToFound=travels['manual'].notnull() #indici delle righe dove dobbiamo copiare manual in found"
   ]
  },
  {
   "cell_type": "code",
   "execution_count": 50,
   "metadata": {},
   "outputs": [],
   "source": [
    "foundToManual = travels['manual'].isnull() #indici delle righe dove dobbiamo copiare found in manual"
   ]
  },
  {
   "cell_type": "code",
   "execution_count": 51,
   "metadata": {},
   "outputs": [
    {
     "data": {
      "text/html": [
       "<div>\n",
       "<style scoped>\n",
       "    .dataframe tbody tr th:only-of-type {\n",
       "        vertical-align: middle;\n",
       "    }\n",
       "\n",
       "    .dataframe tbody tr th {\n",
       "        vertical-align: top;\n",
       "    }\n",
       "\n",
       "    .dataframe thead th {\n",
       "        text-align: right;\n",
       "    }\n",
       "</style>\n",
       "<table border=\"1\" class=\"dataframe\">\n",
       "  <thead>\n",
       "    <tr style=\"text-align: right;\">\n",
       "      <th></th>\n",
       "      <th>index</th>\n",
       "      <th>id</th>\n",
       "      <th>contact_city</th>\n",
       "      <th>contact_state</th>\n",
       "      <th>description</th>\n",
       "      <th>found</th>\n",
       "      <th>manual</th>\n",
       "      <th>remove</th>\n",
       "      <th>still_there</th>\n",
       "    </tr>\n",
       "  </thead>\n",
       "  <tbody>\n",
       "    <tr>\n",
       "      <th>0</th>\n",
       "      <td>0</td>\n",
       "      <td>44520267</td>\n",
       "      <td>Anoka</td>\n",
       "      <td>MN</td>\n",
       "      <td>Boris is a handsome mini schnauzer who made hi...</td>\n",
       "      <td>Arkansas</td>\n",
       "      <td>NaN</td>\n",
       "      <td>NaN</td>\n",
       "      <td>NaN</td>\n",
       "    </tr>\n",
       "    <tr>\n",
       "      <th>1</th>\n",
       "      <td>1</td>\n",
       "      <td>44698509</td>\n",
       "      <td>Groveland</td>\n",
       "      <td>FL</td>\n",
       "      <td>Duke is an almost 2 year old Potcake from Abac...</td>\n",
       "      <td>NaN</td>\n",
       "      <td>Bahamas</td>\n",
       "      <td>NaN</td>\n",
       "      <td>NaN</td>\n",
       "    </tr>\n",
       "    <tr>\n",
       "      <th>2</th>\n",
       "      <td>2</td>\n",
       "      <td>45983838</td>\n",
       "      <td>Adamstown</td>\n",
       "      <td>MD</td>\n",
       "      <td>Zac Woof-ron is a heartthrob movie star lookin...</td>\n",
       "      <td>NaN</td>\n",
       "      <td>Maryland</td>\n",
       "      <td>NaN</td>\n",
       "      <td>NaN</td>\n",
       "    </tr>\n",
       "    <tr>\n",
       "      <th>3</th>\n",
       "      <td>3</td>\n",
       "      <td>44475904</td>\n",
       "      <td>Saint Cloud</td>\n",
       "      <td>MN</td>\n",
       "      <td>~~Came in to the shelter as a transfer from an...</td>\n",
       "      <td>Adaptil</td>\n",
       "      <td>NaN</td>\n",
       "      <td>True</td>\n",
       "      <td>NaN</td>\n",
       "    </tr>\n",
       "    <tr>\n",
       "      <th>4</th>\n",
       "      <td>4</td>\n",
       "      <td>43877389</td>\n",
       "      <td>Pueblo</td>\n",
       "      <td>CO</td>\n",
       "      <td>Palang is such a sweetheart. She loves her peo...</td>\n",
       "      <td>Afghanistan</td>\n",
       "      <td>NaN</td>\n",
       "      <td>NaN</td>\n",
       "      <td>NaN</td>\n",
       "    </tr>\n",
       "  </tbody>\n",
       "</table>\n",
       "</div>"
      ],
      "text/plain": [
       "   index        id contact_city contact_state  \\\n",
       "0      0  44520267        Anoka            MN   \n",
       "1      1  44698509    Groveland            FL   \n",
       "2      2  45983838    Adamstown            MD   \n",
       "3      3  44475904  Saint Cloud            MN   \n",
       "4      4  43877389       Pueblo            CO   \n",
       "\n",
       "                                         description        found    manual  \\\n",
       "0  Boris is a handsome mini schnauzer who made hi...     Arkansas       NaN   \n",
       "1  Duke is an almost 2 year old Potcake from Abac...          NaN   Bahamas   \n",
       "2  Zac Woof-ron is a heartthrob movie star lookin...          NaN  Maryland   \n",
       "3  ~~Came in to the shelter as a transfer from an...      Adaptil       NaN   \n",
       "4  Palang is such a sweetheart. She loves her peo...  Afghanistan       NaN   \n",
       "\n",
       "  remove still_there  \n",
       "0    NaN         NaN  \n",
       "1    NaN         NaN  \n",
       "2    NaN         NaN  \n",
       "3   True         NaN  \n",
       "4    NaN         NaN  "
      ]
     },
     "execution_count": 51,
     "metadata": {},
     "output_type": "execute_result"
    }
   ],
   "source": [
    "travels.loc[manualToFound,'found']= np.nan #sostituiamo tutte le celle di found da modificare con NaN per poter usare \n",
    "                                            #funzione bfill\n",
    "travels.head()"
   ]
  },
  {
   "cell_type": "code",
   "execution_count": 52,
   "metadata": {},
   "outputs": [],
   "source": [
    "travels.loc[manualToFound, ['found', 'manual']]=travels[manualToFound][['found', 'manual']].bfill(axis=1)\n",
    "#bfill sostiuisce ad un NaN il primo valore disponibile successivo. axis = 1 prende il valore sulla stessa riga(0 sarebbe colonna)"
   ]
  },
  {
   "cell_type": "code",
   "execution_count": 53,
   "metadata": {},
   "outputs": [],
   "source": [
    "travels.loc[foundToManual, ['found', 'manual']]=travels[foundToManual][['found', 'manual']].ffill(axis=1)\n",
    "#ffill sostituisce con primo valore disponibile precedente"
   ]
  },
  {
   "cell_type": "markdown",
   "metadata": {},
   "source": [
    "## 9. For each state, compute the ratio between the number of travels and the population."
   ]
  },
  {
   "cell_type": "code",
   "execution_count": 59,
   "metadata": {},
   "outputs": [],
   "source": [
    "travels.loc[travels['contact_state']=='17325', 'contact_state']='PA' \n",
    "#alcune celle di contact_state avevano il valore 17325, cambiato con 'PA' perchè è uno zip code di pennsylvania e aveva PA\n",
    "#come contact_city"
   ]
  },
  {
   "cell_type": "code",
   "execution_count": 60,
   "metadata": {},
   "outputs": [],
   "source": [
    "state_dict = {\n",
    "\"Alabama\": \"AL\", \"Alaska\": \"AK\", \"Arizona\": \"AZ\", \"Arkansas\": \"AR\", \"California\": \"CA\", \"Colorado\": \"CO\", \"Connecticut\": \"CT\",\n",
    "\"Delaware\": \"DE\", \"Florida\": \"FL\", \"Georgia\": \"GA\", \"Hawaii\": \"HI\", \"Idaho\": \"ID\", \"Illinois\": \"IL\", \"Indiana\": \"IN\", \n",
    "\"Iowa\": \"IA\", \"Kansas\": \"KS\", \"Kentucky\": \"KY\", \"Louisiana\": \"LA\", \"Maine\": \"ME\", \"Maryland\": \"MD\", \"Massachusetts\": \"MA\", \n",
    "\"Michigan\": \"MI\",  \"Minnesota\": \"MN\", \"Mississippi\": \"MS\", \"Missouri\": \"MO\", \"Montana\": \"MT\", \"Nebraska\": \"NE\", \"Nevada\": \"NV\",\n",
    "\"New Hampshire\": \"NH\", \"New Jersey\": \"NJ\", \"New Mexico\": \"NM\", \"New York\": \"NY\", \"North Carolina\": \"NC\", \"North Dakota\": \"ND\",\n",
    "\"Ohio\": \"OH\", \"Oklahoma\": \"OK\", \"Oregon\": \"OR\", \"Pennsylvania\": \"PA\", \"Rhode Island\": \"RI\", \"South Carolina\": \"SC\", \n",
    "\"South Dakota\": \"SD\", \"Tennessee\": \"TN\", \"Texas\": \"TX\", \"Utah\": \"UT\", \"Vermont\": \"VT\", \"Virginia\": \"VA\", \"Washington\": \"WA\",\n",
    "\"West Virginia\": \"WV\", \"Wisconsin\": \"WI\", \"Wyoming\": \"WY\", \"District of Columbia\": \"DC\",\n",
    "}"
   ]
  },
  {
   "cell_type": "code",
   "execution_count": 61,
   "metadata": {},
   "outputs": [],
   "source": [
    "for state in population.State:\n",
    "    population.loc[population['State']==state, 'state_short'] = state_dict[state] #assegna valori della sigla"
   ]
  },
  {
   "cell_type": "code",
   "execution_count": 63,
   "metadata": {},
   "outputs": [],
   "source": [
    "numTravels=travels.groupby('contact_state')['index'].count().to_frame() #crea dataframe per poter fare merge con altro dataframe\n",
    "numTravels.columns=['number_of_travels'] #rinomina colonna\n",
    "#numTravels "
   ]
  },
  {
   "cell_type": "code",
   "execution_count": 65,
   "metadata": {},
   "outputs": [],
   "source": [
    "travelsPop = pd.merge(population, numTravels, how='inner', left_on='state_short', right_on='contact_state')\n",
    "#travelsPop"
   ]
  },
  {
   "cell_type": "code",
   "execution_count": null,
   "metadata": {},
   "outputs": [],
   "source": [
    "travelsPop['number_of_travels']/travelsPop['Pop']*100 #calcola ratio, valori in percentuale"
   ]
  },
  {
   "cell_type": "markdown",
   "metadata": {},
   "source": [
    "## 10. For each dog, compute the number of days from the posted day to the day of last access."
   ]
  },
  {
   "cell_type": "code",
   "execution_count": 67,
   "metadata": {},
   "outputs": [],
   "source": [
    "dogs['parsed accessed'] = pd.to_datetime(dogs['accessed'], format='%Y-%m-%d') #parse variabile accessed"
   ]
  },
  {
   "cell_type": "code",
   "execution_count": 72,
   "metadata": {},
   "outputs": [],
   "source": [
    "difference= (dogs['parsed accessed']-dogs['parsed posted']) \n",
    "for key in difference.keys():\n",
    "    number = difference[key].round('d').days # arrotonda per il numero di giorni e lo estrae \n",
    "    if number < 0:\n",
    "        number = 0\n",
    "    dogs.loc[key, 'days_difference']= number\n"
   ]
  },
  {
   "cell_type": "code",
   "execution_count": 74,
   "metadata": {},
   "outputs": [],
   "source": [
    "#dogs.days_difference"
   ]
  },
  {
   "cell_type": "markdown",
   "metadata": {},
   "source": [
    "## 11. Partition the dogs according to the number of weeks from the posted day to the day of last access."
   ]
  },
  {
   "cell_type": "code",
   "execution_count": 77,
   "metadata": {},
   "outputs": [],
   "source": [
    "dogs['weeks_difference'] = dogs['days_difference'] // 7\n",
    "#dogs[['days_difference', 'weeks_difference']]"
   ]
  },
  {
   "cell_type": "code",
   "execution_count": null,
   "metadata": {},
   "outputs": [],
   "source": [
    "dogs.groupby('weeks_difference')['id'].count()"
   ]
  },
  {
   "cell_type": "markdown",
   "metadata": {},
   "source": [
    "## 12. Find for duplicates in the dogs dataset. Two records are duplicates if they have (1) same breeds and sex, and (2) they share at least 90% of the words in the description field. Extra points if you find and implement a more refined for determining if two rows are duplicates."
   ]
  },
  {
   "cell_type": "code",
   "execution_count": 81,
   "metadata": {},
   "outputs": [],
   "source": [
    "stopwords=[]\n",
    "f = open('stop_words_english.txt', 'r', encoding='utf-8')\n",
    "for x in f:\n",
    "    x=x.replace(\"'\", \"\")\n",
    "    x=x.replace('\\n', \"\")\n",
    "    stopwords.append(x)\n",
    "f.close()\n",
    "#stopwords"
   ]
  },
  {
   "cell_type": "code",
   "execution_count": 82,
   "metadata": {},
   "outputs": [],
   "source": [
    "subset = pd.DataFrame(dogs[['breed_primary', 'sex','description', 'age', 'name']])\n",
    "subset=subset.fillna(value='x')"
   ]
  },
  {
   "cell_type": "code",
   "execution_count": 83,
   "metadata": {},
   "outputs": [],
   "source": [
    "breed_list = subset['breed_primary'].unique()\n",
    "sex_list = subset['sex'].unique()\n",
    "age_list = subset['age'].unique()"
   ]
  },
  {
   "cell_type": "code",
   "execution_count": null,
   "metadata": {},
   "outputs": [],
   "source": [
    "listOfSimilar=[]\n",
    "for breed in breed_list:\n",
    "    print('\\n new breed: ' + breed)\n",
    "    for sex in sex_list:\n",
    "        for age in age_list:\n",
    "            idxs = list(subset.loc[(subset['breed_primary']==breed) & (subset['sex']==sex) & (subset['age']==age)].index.values)\n",
    "            for idx in idxs:\n",
    "                l=[]\n",
    "                if subset.loc[idx,'description']!='x':\n",
    "                    pos = idxs.index(idx)\n",
    "                    listToCheck = ' '.join([word for word in subset.loc[idx, 'description'].split() if word not in stopwords]).split()\n",
    "                    number = len(listToCheck)\n",
    "                    if (not any(idx in sublist for sublist in listOfSimilar)):\n",
    "                        for i in idxs[pos+1:]:\n",
    "                            if subset.loc[idx,'name'] == subset.loc[i, 'name']:\n",
    "                                count=0\n",
    "                                listMatch = ' '.join([word for word in subset.loc[i, 'description'].split() if word not in stopwords]).split()\n",
    "                                numberMatch = len(listMatch)\n",
    "                                for w in listToCheck:\n",
    "                                    if w in listMatch:\n",
    "                                        count += 2\n",
    "                                result = (count/(number + numberMatch))*100\n",
    "                                if result >= 90 :\n",
    "                                    l.append(i)\n",
    "                    if len(l)>0:\n",
    "                        l.append(idx)\n",
    "                        listOfSimilar.append(l)\n",
    "\n",
    "#print(listOfSimilar)"
   ]
  },
  {
   "cell_type": "code",
   "execution_count": 86,
   "metadata": {},
   "outputs": [],
   "source": [
    "print(listOfSimilar)"
   ]
  },
  {
   "cell_type": "code",
   "execution_count": 87,
   "metadata": {},
   "outputs": [
    {
     "data": {
      "text/html": [
       "<div>\n",
       "<style scoped>\n",
       "    .dataframe tbody tr th:only-of-type {\n",
       "        vertical-align: middle;\n",
       "    }\n",
       "\n",
       "    .dataframe tbody tr th {\n",
       "        vertical-align: top;\n",
       "    }\n",
       "\n",
       "    .dataframe thead th {\n",
       "        text-align: right;\n",
       "    }\n",
       "</style>\n",
       "<table border=\"1\" class=\"dataframe\">\n",
       "  <thead>\n",
       "    <tr style=\"text-align: right;\">\n",
       "      <th></th>\n",
       "      <th>id</th>\n",
       "      <th>org_id</th>\n",
       "      <th>url</th>\n",
       "      <th>type.x</th>\n",
       "      <th>species</th>\n",
       "      <th>breed_primary</th>\n",
       "      <th>breed_secondary</th>\n",
       "      <th>breed_mixed</th>\n",
       "      <th>breed_unknown</th>\n",
       "      <th>color_primary</th>\n",
       "      <th>...</th>\n",
       "      <th>accessed</th>\n",
       "      <th>type.y</th>\n",
       "      <th>description</th>\n",
       "      <th>stay_duration</th>\n",
       "      <th>stay_cost</th>\n",
       "      <th>posted_new</th>\n",
       "      <th>parsed posted</th>\n",
       "      <th>parsed accessed</th>\n",
       "      <th>days_difference</th>\n",
       "      <th>weeks_difference</th>\n",
       "    </tr>\n",
       "  </thead>\n",
       "  <tbody>\n",
       "    <tr>\n",
       "      <th>21417</th>\n",
       "      <td>45361590</td>\n",
       "      <td>AL186</td>\n",
       "      <td>https://www.petfinder.com/dog/addison-b-453615...</td>\n",
       "      <td>Dog</td>\n",
       "      <td>Dog</td>\n",
       "      <td>Labrador Retriever</td>\n",
       "      <td>NaN</td>\n",
       "      <td>True</td>\n",
       "      <td>False</td>\n",
       "      <td>NaN</td>\n",
       "      <td>...</td>\n",
       "      <td>2019-09-20</td>\n",
       "      <td>Dog</td>\n",
       "      <td>SPAYED\\n\\nLAB MIX\\n\\nBORN 4-15-19\\n\\n15- 18 LB...</td>\n",
       "      <td>52</td>\n",
       "      <td>71.48</td>\n",
       "      <td>2019-07-25 15:17:48</td>\n",
       "      <td>2019-07-25 15:17:48</td>\n",
       "      <td>2019-09-20</td>\n",
       "      <td>56.0</td>\n",
       "      <td>8.0</td>\n",
       "    </tr>\n",
       "    <tr>\n",
       "      <th>17930</th>\n",
       "      <td>45361631</td>\n",
       "      <td>AL186</td>\n",
       "      <td>https://www.petfinder.com/dog/addison-b-453616...</td>\n",
       "      <td>Dog</td>\n",
       "      <td>Dog</td>\n",
       "      <td>Labrador Retriever</td>\n",
       "      <td>NaN</td>\n",
       "      <td>True</td>\n",
       "      <td>False</td>\n",
       "      <td>NaN</td>\n",
       "      <td>...</td>\n",
       "      <td>2019-09-20</td>\n",
       "      <td>Dog</td>\n",
       "      <td>*SPAYED\\n\\nLAB MIX\\n\\nBORN 4-15-19\\n\\n15- 18 L...</td>\n",
       "      <td>85</td>\n",
       "      <td>159.81</td>\n",
       "      <td>2019-07-25 15:20:42</td>\n",
       "      <td>2019-07-25 15:20:42</td>\n",
       "      <td>2019-09-20</td>\n",
       "      <td>56.0</td>\n",
       "      <td>8.0</td>\n",
       "    </tr>\n",
       "  </tbody>\n",
       "</table>\n",
       "<p>2 rows × 42 columns</p>\n",
       "</div>"
      ],
      "text/plain": [
       "             id org_id                                                url  \\\n",
       "21417  45361590  AL186  https://www.petfinder.com/dog/addison-b-453615...   \n",
       "17930  45361631  AL186  https://www.petfinder.com/dog/addison-b-453616...   \n",
       "\n",
       "      type.x species       breed_primary breed_secondary  breed_mixed  \\\n",
       "21417    Dog     Dog  Labrador Retriever             NaN         True   \n",
       "17930    Dog     Dog  Labrador Retriever             NaN         True   \n",
       "\n",
       "       breed_unknown color_primary        ...           accessed type.y  \\\n",
       "21417          False           NaN        ...         2019-09-20    Dog   \n",
       "17930          False           NaN        ...         2019-09-20    Dog   \n",
       "\n",
       "                                             description stay_duration  \\\n",
       "21417  SPAYED\\n\\nLAB MIX\\n\\nBORN 4-15-19\\n\\n15- 18 LB...            52   \n",
       "17930  *SPAYED\\n\\nLAB MIX\\n\\nBORN 4-15-19\\n\\n15- 18 L...            85   \n",
       "\n",
       "      stay_cost           posted_new       parsed posted  parsed accessed  \\\n",
       "21417     71.48  2019-07-25 15:17:48 2019-07-25 15:17:48       2019-09-20   \n",
       "17930    159.81  2019-07-25 15:20:42 2019-07-25 15:20:42       2019-09-20   \n",
       "\n",
       "       days_difference  weeks_difference  \n",
       "21417             56.0               8.0  \n",
       "17930             56.0               8.0  \n",
       "\n",
       "[2 rows x 42 columns]"
      ]
     },
     "execution_count": 87,
     "metadata": {},
     "output_type": "execute_result"
    }
   ],
   "source": [
    "dogs.loc[listOfSimilar[240]] "
   ]
  },
  {
   "cell_type": "code",
   "execution_count": 88,
   "metadata": {},
   "outputs": [
    {
     "name": "stdout",
     "output_type": "stream",
     "text": [
      "SPAYED\n",
      "\n",
      "LAB MIX\n",
      "\n",
      "BORN 4-15-19\n",
      "\n",
      "15- 18 LBS\n",
      "\n",
      "MEET ADDISON... SHE IS A CUTIE PIE, LOVING, AND YOUR NORMAL PUP. SHE IS GOOD WITH OTHER DOGS, KIDS AND CATS. SHE IS READY TO SHARE HER LIFE, AND LOVE WITH HER NEW FAMILY.  ADDISON IS FULLY VETTED AND READY TO GO!\n",
      "TN POSTED 7/25/19\n",
      "\n",
      "**It is rare that we know with certainty the ages or mixes that make up our wonderful dogs, but we do our best to be as accurate as possible based upon our many years in rescue.**\n",
      "\n",
      "Adoption: $325 which covers quarantine, shots, worming, food, medical records, spaying/neutering, microchip,  and an Alabama State Health Certificate.\n",
      "\n",
      "Transport, if needed :  $120.00    We consider the transport to be of great importance and, as such, take particular care of the dogs during the trip from Alabama.  We  make every effort to arrive with healthy and minimally stressed dogs.\n",
      "\n",
      "Weight Scale:   Small =  less than 25\n",
      "                       Medium = 26-60\n",
      "                         Large =  61-100\n",
      "                               XL = 100+\n",
      "AAAAAAAAAAAAAAAAAAAA\n",
      "*SPAYED\n",
      "\n",
      "LAB MIX\n",
      "\n",
      "BORN 4-15-19\n",
      "\n",
      "15- 18 LBS\n",
      "\n",
      "MEET ADDISON... SHE IS A CUTIE PIE, LOVING, AND YOUR NORMAL PUP. SHE IS GOOD WITH OTHER DOGS, KIDS AND CATS. SHE IS READY TO SHARE HER LIFE, AND LOVE WITH HER NEW FAMILY. ADDISON IS FULLY VETTED AND READY TO GO!\n",
      "TN POSTED 7/25/19\n",
      "\n",
      "*It is rare that we know with certainty the ages or mixes that make up our wonderful dogs, but we do our best to be as accurate as possible based upon our many years in rescue.**\n",
      "\n",
      "Adoption: $325 which covers quarantine, shots, worming, food, medical records, spaying/neutering, microchip,  and an Alabama State Health Certificate.\n",
      "\n",
      "Transport, if needed :  $120.00    We consider the transport to be of great importance and, as such, take particular care of the dogs during the trip from Alabama.  We  make every effort to arrive with healthy and minimally stressed dogs.\n",
      "\n",
      "Weight Scale:   Small =  less than 25\n",
      "                       Medium = 26-60\n",
      "                         Large =  61-100\n",
      "                               XL = 100+\n"
     ]
    }
   ],
   "source": [
    "print(subset.loc[21417,'description'] + '\\nAAAAAAAAAAAAAAAAAAAA\\n' + subset.loc[17930,'description'])"
   ]
  },
  {
   "cell_type": "code",
   "execution_count": null,
   "metadata": {},
   "outputs": [],
   "source": []
  }
 ],
 "metadata": {
  "kernelspec": {
   "display_name": "Python 3",
   "language": "python",
   "name": "python3"
  },
  "language_info": {
   "codemirror_mode": {
    "name": "ipython",
    "version": 3
   },
   "file_extension": ".py",
   "mimetype": "text/x-python",
   "name": "python",
   "nbconvert_exporter": "python",
   "pygments_lexer": "ipython3",
   "version": "3.7.1"
  }
 },
 "nbformat": 4,
 "nbformat_minor": 2
}
